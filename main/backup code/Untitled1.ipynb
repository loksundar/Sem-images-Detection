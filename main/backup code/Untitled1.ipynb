{
 "cells": [
  {
   "cell_type": "code",
   "execution_count": null,
   "metadata": {},
   "outputs": [],
   "source": [
    "import cv2\n",
    "import matplotlib.pyplot as plt\n",
    "import numpy as np\n",
    "from PIL import Image\n",
    "imgil=\"testt2.tif\"\n",
    "im = Image.open(imgil, \"r\")\n",
    "pix_val = list(im.getdata())\n",
    "#print (pix_val)\n",
    "flags = [i for i in dir(cv2) if i.startswith(\"COLOR_\")]\n",
    "print(len(flags))\n",
    "print(flags[40])\n",
    "img= cv2.imread(imgil)\n",
    "plt.imshow(img)\n",
    "plt.show()\n",
    "img2 = cv2.cvtColor(img, cv2.COLOR_BGR2RGB)\n",
    "plt.imshow(img2)\n",
    "plt.show()\n",
    "from mpl_toolkits.mplot3d import Axes3D\n",
    "from matplotlib import cm\n",
    "from matplotlib import colors\n",
    "r, g, b = cv2.split(img2)\n",
    "fig = plt.figure()\n",
    "axis = fig.add_subplot(1, 1, 1, projection=\"3d\")\n",
    "pixel_colors = img2.reshape((np.shape(img2)[0]*np.shape(img2)[1], 3))\n",
    "norm = colors.Normalize(vmin=-1.,vmax=1.)\n",
    "norm.autoscale(pixel_colors)\n",
    "pixel_colors = norm(pixel_colors).tolist()\n",
    "axis.scatter(r.flatten(), g.flatten(), b.flatten(), facecolors=pixel_colors, marker=\".\")\n",
    "axis.set_xlabel(\"Red\")\n",
    "axis.set_ylabel(\"Green\")\n",
    "axis.set_zlabel(\"Blue\")\n",
    "plt.show()\n",
    "#now for hue and satur\n",
    "#hsv_img = cv2.cvtColor(img2, cv2.COLOR_RGB2HSV)\n",
    "#h, s, v = cv2.split(hsv_img)\n",
    "#fig = plt.figure()\n",
    "#axis = fig.add_subplot(1, 1, 1, projection=\"3d\")\n",
    "\n",
    "#axis.scatter(h.flatten(), s.flatten(), v.flatten(), facecolors=pixel_colors, marker=\".\")\n",
    "#axis.set_xlabel(\"Hue\")\n",
    "#axis.set_ylabel(\"Saturation\")\n",
    "#axis.set_zlabel(\"Value\")\n",
    "#plt.show()\n",
    "#not efficient leave it\n",
    "black=(0,0,0)\n",
    "lblack=(75,75,75)\n",
    "mask = cv2.inRange(img2, black, lblack)\n",
    "result = cv2.bitwise_and(img2, img2, mask=mask)\n",
    "plt.subplot(1, 2, 1)\n",
    "plt.imshow(mask, cmap=\"gray\")\n",
    "#plt.subplot(1, 2, 2)\n",
    "#plt.imshow(result)\n",
    "plt.show()\n",
    "#https://realpython.com/python-opencv-color-spaces/\n",
    "#refer for theory."
   ]
  },
  {
   "cell_type": "code",
   "execution_count": null,
   "metadata": {},
   "outputs": [],
   "source": [
    "import cv2\n",
    "import matplotlib.pyplot as plt\n",
    "import numpy as np\n",
    "from PIL import Image"
   ]
  },
  {
   "cell_type": "code",
   "execution_count": null,
   "metadata": {},
   "outputs": [],
   "source": []
  }
 ],
 "metadata": {
  "kernelspec": {
   "display_name": "Python 3",
   "language": "python",
   "name": "python3"
  }
 },
 "nbformat": 4,
 "nbformat_minor": 4
}
